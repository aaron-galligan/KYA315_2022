{
 "cells": [
  {
   "cell_type": "markdown",
   "id": "289912ac-f382-4e36-ab99-e57ae13a08d6",
   "metadata": {},
   "source": [
    "# Flow around a circulating cylinder\n",
    "\n",
    "Calculating flow, pressure, and stagnation points in flow around a cylinder with net circulation"
   ]
  },
  {
   "cell_type": "code",
   "execution_count": null,
   "id": "8785b928-3401-4025-98e7-3387d1166d60",
   "metadata": {},
   "outputs": [],
   "source": [
    "import matplotlib\n",
    "import matplotlib.pyplot as plt\n",
    "import numpy as np"
   ]
  },
  {
   "cell_type": "markdown",
   "id": "745b07d4-5bf5-41a7-a484-b0f4c8fe0dc8",
   "metadata": {},
   "source": [
    "## Flow around circular cylinder (2D)"
   ]
  },
  {
   "cell_type": "markdown",
   "id": "00372236-a3c7-412a-ad67-cf439a8082d5",
   "metadata": {},
   "source": [
    "The velocity potential for flow around cylinder of radius $a$ is given as\n",
    "\n",
    "$$ \\Phi(\\mathbf{r}) = cx\\bigg(1 + \\frac{a^2}{x^2+y^2}\\bigg) - \\frac{\\Gamma}{2\\pi}\\arctan\\bigg(\\frac{y}{x}\\bigg)$$"
   ]
  },
  {
   "cell_type": "code",
   "execution_count": null,
   "id": "e1ca1d77-8cac-4205-97c4-e1653f7a411a",
   "metadata": {},
   "outputs": [],
   "source": [
    "def potential(x,y,c,a,G): \n",
    "    Phi = c*x*(1+a**2/((x**2+y**2))) - G/(2*np.pi)*np.arctan(y/x)\n",
    "    return Phi"
   ]
  },
  {
   "cell_type": "markdown",
   "id": "7ec91716-2b50-4b81-918e-a9bc5ce53d69",
   "metadata": {},
   "source": [
    "The velocity vector is then $\\mathbf{u}=\\nabla\\Phi$ or\n",
    "\n",
    "$$ \\mathbf{u} = \\begin{bmatrix} c + \\frac{ca^2}{x^2+y^2} - \\frac{2ca^2x^2}{(x^2+y^2)^2} + \\frac{\\Gamma}{2\\pi}\\frac{y}{x^2+y^2}\\\\ \n",
    "- \\frac{2ca^2xy}{(x^2+y^2)^2} - \\frac{\\Gamma}{2\\pi}\\frac{x}{x^2+y^2} \\end{bmatrix} $$"
   ]
  },
  {
   "cell_type": "code",
   "execution_count": null,
   "id": "1c4d7bdb-0826-45bd-94c4-92beb1cf3280",
   "metadata": {},
   "outputs": [],
   "source": [
    "def velocity(x,y,c,a,G):\n",
    "    u = c + (c*a**2)/(x**2+y**2) - (2*c*a**2*x**2)/(x**2+y**2)**2 + G/(2*np.pi)*y/(x**2+y**2)\n",
    "    v = - (2*c*a**2*x*y)/(x**2+y**2)**2 - G/(2*np.pi)*x/(x**2+y**2)\n",
    "    U = np.array([u,v])\n",
    "    return U"
   ]
  },
  {
   "cell_type": "markdown",
   "id": "383b9e41-4a26-412e-8633-7186597ffaab",
   "metadata": {},
   "source": [
    "We know that if $\\Gamma=0$ then stagnation point is at the left intersection of the circle with the x-axis.\n",
    "\n",
    "For $a=1$, this implies stagnation point at $(-1,0)$, i.e. $u=v=0$"
   ]
  },
  {
   "cell_type": "code",
   "execution_count": null,
   "id": "2705e313-4487-497c-a7e5-eac99afec5ab",
   "metadata": {},
   "outputs": [],
   "source": [
    "velocity(-1,0,1,1,0)"
   ]
  },
  {
   "cell_type": "markdown",
   "id": "b10334aa-75a5-481c-89c2-8221ac989719",
   "metadata": {},
   "source": [
    "### Let $c=1$ and $a=1$"
   ]
  },
  {
   "cell_type": "code",
   "execution_count": null,
   "id": "45e7bdc9-cc4e-46fe-8b21-9741e983c337",
   "metadata": {},
   "outputs": [],
   "source": [
    "c = 1 \n",
    "a = 1"
   ]
  },
  {
   "cell_type": "markdown",
   "id": "abdbe158-4100-436b-8f4b-e531ca40f92d",
   "metadata": {},
   "source": [
    "## Case 1: $\\Gamma < 4\\pi$\n",
    "Let $\\Gamma = 2\\pi$"
   ]
  },
  {
   "cell_type": "code",
   "execution_count": null,
   "id": "55dc98e6-d94f-4a2a-8a1e-3dfa2aead796",
   "metadata": {},
   "outputs": [],
   "source": [
    "G = 2*np.pi"
   ]
  },
  {
   "cell_type": "markdown",
   "id": "83da037b-2f54-438f-9a9d-206f0b1099c8",
   "metadata": {
    "tags": []
   },
   "source": [
    "### Calculate velocity on gridded domain"
   ]
  },
  {
   "cell_type": "code",
   "execution_count": null,
   "id": "4488635f-5c41-4133-916d-1fbf4bc913a8",
   "metadata": {},
   "outputs": [],
   "source": [
    "x = np.linspace(-3,3,150)\n",
    "y = np.linspace(-1.5,1.5,75)\n",
    "X,Y = np.meshgrid(x,y)"
   ]
  },
  {
   "cell_type": "code",
   "execution_count": null,
   "id": "5be4fd37-b589-4e05-a0ac-031fcaaa7604",
   "metadata": {},
   "outputs": [],
   "source": [
    "U1 = velocity(X,Y,c,a,G)"
   ]
  },
  {
   "cell_type": "code",
   "execution_count": null,
   "id": "1560d91c-0e12-4b71-aaa9-c04623dbcde9",
   "metadata": {},
   "outputs": [],
   "source": [
    "u1 = U1[0,:,:]\n",
    "v1 = U1[1,:,:]"
   ]
  },
  {
   "cell_type": "markdown",
   "id": "e4e42228-3817-414d-9355-7dc62540022e",
   "metadata": {},
   "source": [
    "### Plot streamlines"
   ]
  },
  {
   "cell_type": "code",
   "execution_count": null,
   "id": "96d1129a-ac17-482f-9642-ebc9b638d33b",
   "metadata": {
    "tags": []
   },
   "outputs": [],
   "source": [
    "fig = plt.figure(figsize=(10,5))\n",
    "plt.streamplot(X,Y,u1,v1,color='k');"
   ]
  },
  {
   "cell_type": "code",
   "execution_count": null,
   "id": "895ad555-f806-43d9-b173-a3884070dd1c",
   "metadata": {
    "tags": []
   },
   "outputs": [],
   "source": [
    "for ii in np.arange(0,x.shape[0]):\n",
    "    for jj in np.arange(0,y.shape[0]):\n",
    "        if x[ii]**2+y[jj]**2<1:\n",
    "            U1[:,jj,ii] = np.NaN"
   ]
  },
  {
   "cell_type": "code",
   "execution_count": null,
   "id": "9a858b95-2497-45fb-9dcc-786ed7cf7058",
   "metadata": {},
   "outputs": [],
   "source": [
    "fig, ax = plt.subplots(figsize=(10,5))\n",
    "\n",
    "plt.streamplot(X,Y,u1,v1,color='k');\n",
    "boundary = plt.Circle((0,0),a,fill=False,edgecolor='r',lw=2)\n",
    "ax.add_artist(boundary)"
   ]
  },
  {
   "cell_type": "markdown",
   "id": "e2db5def-e97a-4aa5-a62b-5d5016a3f1c1",
   "metadata": {},
   "source": [
    "### Calculate stagnation points\n",
    "\n",
    "For this case there are two real roots to the radical. We can then calculate $x-y$ coordinates based on real and imaginary parts of solution.\n",
    "\n",
    "$$ z_s = \\frac{-i\\Gamma}{4c\\pi} \\pm \\frac{1}{2c}\\sqrt{\\frac{-\\Gamma^2}{4\\pi^2}+4c^2a^2} $$"
   ]
  },
  {
   "cell_type": "code",
   "execution_count": null,
   "id": "c0a4c729-0884-4910-b85f-3fa0a2460c83",
   "metadata": {},
   "outputs": [],
   "source": [
    "stagx = 1/(2*c)*np.sqrt(-G**2/(4*np.pi**2)+4*c**2*a**2)\n",
    "stagy = -G/(4*c*np.pi)"
   ]
  },
  {
   "cell_type": "code",
   "execution_count": null,
   "id": "e3b0c96e-6d06-4baf-90e4-971f3da9c591",
   "metadata": {},
   "outputs": [],
   "source": [
    "fig, ax = plt.subplots(figsize=(10,5))\n",
    "\n",
    "plt.streamplot(X,Y,u1,v1,color='k');\n",
    "boundary = plt.Circle((0,0),a,fill=False,edgecolor='r',lw=2)\n",
    "ax.add_artist(boundary)\n",
    "ax.plot(stagx,stagy,'.',ms=14,color='b')\n",
    "plt.show()"
   ]
  },
  {
   "cell_type": "markdown",
   "id": "a566e32d-d25e-4174-843b-a6ddc22baad4",
   "metadata": {},
   "source": [
    "## Case 2: $\\Gamma = 4\\pi$\n",
    "Let $\\Gamma = 4\\pi$"
   ]
  },
  {
   "cell_type": "code",
   "execution_count": null,
   "id": "09335f6d-b2e6-4a33-8519-07d8cfe00eca",
   "metadata": {},
   "outputs": [],
   "source": [
    "G = 4*np.pi"
   ]
  },
  {
   "cell_type": "markdown",
   "id": "5dafd75f-4640-44bb-81c7-2065550854d0",
   "metadata": {
    "tags": []
   },
   "source": [
    "### Calculate velocity on gridded domain"
   ]
  },
  {
   "cell_type": "code",
   "execution_count": null,
   "id": "2fd6b9a6-86d0-407f-a816-db79413a130e",
   "metadata": {},
   "outputs": [],
   "source": [
    "U2 = velocity(X,Y,c,a,G)"
   ]
  },
  {
   "cell_type": "code",
   "execution_count": null,
   "id": "cf658529-9b5e-4e78-b429-e6f38ae61b22",
   "metadata": {},
   "outputs": [],
   "source": [
    "u2 = U2[0,:,:]\n",
    "v2 = U2[1,:,:]"
   ]
  },
  {
   "cell_type": "markdown",
   "id": "f6f7df12-7101-4d3f-82ee-cbdbe66c9051",
   "metadata": {},
   "source": [
    "### Plot streamlines"
   ]
  },
  {
   "cell_type": "code",
   "execution_count": null,
   "id": "75cef499-b862-4d80-95f2-ec47f4c98e23",
   "metadata": {},
   "outputs": [],
   "source": [
    "for ii in np.arange(0,x.shape[0]):\n",
    "    for jj in np.arange(0,y.shape[0]):\n",
    "        if x[ii]**2+y[jj]**2<1:\n",
    "            U2[:,jj,ii] = np.NaN"
   ]
  },
  {
   "cell_type": "code",
   "execution_count": null,
   "id": "79111e2d-c234-415c-b5d7-966f8e0d115d",
   "metadata": {
    "tags": []
   },
   "outputs": [],
   "source": [
    "fig, ax = plt.subplots(figsize=(10,5))\n",
    "\n",
    "plt.streamplot(X,Y,u2,v2,color='k');\n",
    "boundary = plt.Circle((0,0),a,fill=False,edgecolor='r',lw=2)\n",
    "ax.add_artist(boundary)\n",
    "plt.show()"
   ]
  },
  {
   "cell_type": "markdown",
   "id": "79a83644-cc44-4f8a-b128-a8c7635063db",
   "metadata": {},
   "source": [
    "### Calculate stagnation points\n",
    "\n",
    "For this case there is one real roots to the radical (0). We can then calculate $x-y$ coordinates based on real and imaginary parts of solution.\n",
    "\n",
    "$$ z_s = \\frac{-i\\Gamma}{4c\\pi} $$"
   ]
  },
  {
   "cell_type": "code",
   "execution_count": null,
   "id": "3a846643-0a75-4ea3-b3ab-c73de07a7f74",
   "metadata": {},
   "outputs": [],
   "source": [
    "stagx = 0\n",
    "stagy = -G/(4*c*np.pi)"
   ]
  },
  {
   "cell_type": "code",
   "execution_count": null,
   "id": "5ff62461-8471-4687-b7cc-4bb65f574ef0",
   "metadata": {},
   "outputs": [],
   "source": [
    "fig, ax = plt.subplots(figsize=(10,5))\n",
    "\n",
    "plt.streamplot(X,Y,u2,v2,color='k');\n",
    "boundary = plt.Circle((0,0),a,fill=False,edgecolor='r',lw=2)\n",
    "ax.add_artist(boundary)\n",
    "ax.plot(stagx,stagy,'.',ms=14,color='b')\n",
    "plt.show()"
   ]
  },
  {
   "cell_type": "markdown",
   "id": "cce697cb-6738-440e-97ac-ee3638454937",
   "metadata": {},
   "source": [
    "## Case 3: $\\Gamma > 4\\pi$\n",
    "Let $\\Gamma = 6\\pi$"
   ]
  },
  {
   "cell_type": "code",
   "execution_count": null,
   "id": "d9ec8f68-5ae8-457e-9995-678ab76ba90a",
   "metadata": {},
   "outputs": [],
   "source": [
    "G = 6*np.pi"
   ]
  },
  {
   "cell_type": "markdown",
   "id": "76a32a8a-a8c6-4261-bf8e-a13f86edf2db",
   "metadata": {
    "tags": []
   },
   "source": [
    "### Calculate velocity on gridded domain\n",
    "Increase the domain in the $y$ direction for this case"
   ]
  },
  {
   "cell_type": "code",
   "execution_count": null,
   "id": "eca38206-b333-447c-b660-5d2cf89770a6",
   "metadata": {},
   "outputs": [],
   "source": [
    "x3 = np.linspace(-3,3,150)\n",
    "y3 = np.linspace(-3,3,150)\n",
    "X3,Y3 = np.meshgrid(x3,y3)"
   ]
  },
  {
   "cell_type": "code",
   "execution_count": null,
   "id": "03dc2980-a509-4f52-971f-6fc8be306856",
   "metadata": {},
   "outputs": [],
   "source": [
    "U3 = velocity(X3,Y3,c,a,G)"
   ]
  },
  {
   "cell_type": "code",
   "execution_count": null,
   "id": "4eff7722-2d15-4e70-9512-f286ebe981b0",
   "metadata": {},
   "outputs": [],
   "source": [
    "u3 = U3[0,:,:]\n",
    "v3 = U3[1,:,:]"
   ]
  },
  {
   "cell_type": "markdown",
   "id": "095b862a-beaf-4091-b4fe-c7d6621d1023",
   "metadata": {},
   "source": [
    "### Plot streamlines"
   ]
  },
  {
   "cell_type": "code",
   "execution_count": null,
   "id": "d07349af-d56d-44cd-8484-fa5fa03d4337",
   "metadata": {},
   "outputs": [],
   "source": [
    "for ii in np.arange(0,x3.shape[0]):\n",
    "    for jj in np.arange(0,y3.shape[0]):\n",
    "        if x3[ii]**2+y3[jj]**2<1:\n",
    "            U3[:,jj,ii] = np.NaN"
   ]
  },
  {
   "cell_type": "code",
   "execution_count": null,
   "id": "8aa45419-0844-4fb5-84a3-2d764eff8830",
   "metadata": {
    "tags": []
   },
   "outputs": [],
   "source": [
    "fig, ax = plt.subplots(figsize=(10,10))\n",
    "\n",
    "plt.streamplot(X3,Y3,u3,v3,color='k');\n",
    "boundary = plt.Circle((0,0),a,fill=False,edgecolor='r',lw=2)\n",
    "ax.add_artist(boundary)\n",
    "plt.show()"
   ]
  },
  {
   "cell_type": "markdown",
   "id": "fb953d58-5637-4d4e-849d-e831a6f05cc0",
   "metadata": {},
   "source": [
    "### Calculate stagnation points\n",
    "\n",
    "For this case there are two imaginary roots to the radical. We can then calculate $x-y$ coordinates based on real and imaginary parts of solution.\n",
    "\n",
    "$$ z_s = i\\bigg(\\frac{\\Gamma}{4c\\pi} \\pm \\frac{1}{2c}\\sqrt{\\frac{\\Gamma^2}{4\\pi^2}-4c^2a^2}\\bigg) $$"
   ]
  },
  {
   "cell_type": "code",
   "execution_count": null,
   "id": "7c83a10d-3781-4ad0-9a9c-789468fe695b",
   "metadata": {},
   "outputs": [],
   "source": [
    "stagx = 0\n",
    "stagy1 = -G/(4*c*np.pi) + 1/(2*c)*np.sqrt(G**2/(4*np.pi**2)-4*c**2*a**2)\n",
    "stagy2 = -G/(4*c*np.pi) - 1/(2*c)*np.sqrt(G**2/(4*np.pi**2)-4*c**2*a**2)"
   ]
  },
  {
   "cell_type": "code",
   "execution_count": null,
   "id": "6077d5f3-c016-4d23-b439-3520334a86c0",
   "metadata": {},
   "outputs": [],
   "source": [
    "fig, ax = plt.subplots(figsize=(10,10))\n",
    "\n",
    "plt.streamplot(X3,Y3,u3,v3,color='k');\n",
    "boundary = plt.Circle((0,0),a,fill=False,edgecolor='r',lw=2)\n",
    "ax.add_artist(boundary)\n",
    "ax.plot([stagx,stagx],[stagy1,stagy2],'.',ms=14,color='b')\n",
    "plt.show()"
   ]
  },
  {
   "cell_type": "markdown",
   "id": "6f6e1000-ef6e-4ff8-ad84-4e2666cd6a91",
   "metadata": {
    "tags": []
   },
   "source": [
    "## Calculate Bernoulli constant (case I - irrotaional, steady flow)\n",
    "Recall - rotional is different than having circulation\n",
    "\n",
    "far from origin: $K = \\frac{1}{2}c^2+ \\frac{p_\\infty}{\\rho}$"
   ]
  },
  {
   "cell_type": "code",
   "execution_count": null,
   "id": "b1fb5651-9378-4ad1-aa3c-8e4239211d94",
   "metadata": {},
   "outputs": [],
   "source": [
    "rho = 1            # density of water\n",
    "pinf = 101.325      # standard SLP (hPa)\n",
    "\n",
    "K = 1/2*c**2 + pinf/rho\n",
    "print(str(K) + \" is Bernoulli constant\")"
   ]
  },
  {
   "cell_type": "code",
   "execution_count": null,
   "id": "7f6b12e4-a004-4b7c-9229-f18dd4e08b59",
   "metadata": {},
   "outputs": [],
   "source": [
    "P = pinf + 1/2*rho*(c**2-np.linalg.norm(U1,2,0)**2)"
   ]
  },
  {
   "cell_type": "markdown",
   "id": "8b827f70-f469-44ca-b857-c23af99fb082",
   "metadata": {
    "tags": []
   },
   "source": [
    "### Plot pressure"
   ]
  },
  {
   "cell_type": "code",
   "execution_count": null,
   "id": "2009d810-0f24-48ff-9a80-5eece92942ae",
   "metadata": {},
   "outputs": [],
   "source": [
    "fig, ax = plt.subplots(figsize=(12,5))\n",
    "\n",
    "p = plt.contourf(X,Y,P,levels=100,vmax=102,vmin=88)\n",
    "plt.colorbar(p)\n",
    "#plt.streamplot(X,Y,u1,v1,color='k');\n",
    "boundary = plt.Circle((0,0),a,fill=False,edgecolor='r',lw=4)\n",
    "ax.add_artist(boundary)\n",
    "plt.show()"
   ]
  },
  {
   "cell_type": "code",
   "execution_count": null,
   "id": "9d44fb0c-f3f9-4e73-acfa-258eab8a627e",
   "metadata": {},
   "outputs": [],
   "source": []
  }
 ],
 "metadata": {
  "kernelspec": {
   "display_name": "Python 3 (ipykernel)",
   "language": "python",
   "name": "python3"
  },
  "language_info": {
   "codemirror_mode": {
    "name": "ipython",
    "version": 3
   },
   "file_extension": ".py",
   "mimetype": "text/x-python",
   "name": "python",
   "nbconvert_exporter": "python",
   "pygments_lexer": "ipython3",
   "version": "3.9.12"
  }
 },
 "nbformat": 4,
 "nbformat_minor": 5
}
