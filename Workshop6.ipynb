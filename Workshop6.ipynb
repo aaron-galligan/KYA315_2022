{
 "cells": [
  {
   "cell_type": "markdown",
   "id": "289912ac-f382-4e36-ab99-e57ae13a08d6",
   "metadata": {},
   "source": [
    "# Calculating pressure\n",
    "\n",
    "Algorithms to calculate and plot pressure in 2D flows"
   ]
  },
  {
   "cell_type": "code",
   "execution_count": null,
   "id": "8785b928-3401-4025-98e7-3387d1166d60",
   "metadata": {},
   "outputs": [],
   "source": [
    "import matplotlib\n",
    "import matplotlib.pyplot as plt\n",
    "import numpy as np"
   ]
  },
  {
   "cell_type": "markdown",
   "id": "745b07d4-5bf5-41a7-a484-b0f4c8fe0dc8",
   "metadata": {},
   "source": [
    "## Flow around circular cylinder (2D)"
   ]
  },
  {
   "cell_type": "markdown",
   "id": "00372236-a3c7-412a-ad67-cf439a8082d5",
   "metadata": {},
   "source": [
    "The velocity potential for flow around cylinder of radius $a$ is given as\n",
    "\n",
    "$$ \\Phi(\\mathbf{r}) = cx\\bigg(1 + \\frac{a^2}{\\sqrt{x^2+y^2}}\\bigg) $$"
   ]
  },
  {
   "cell_type": "code",
   "execution_count": null,
   "id": "e1ca1d77-8cac-4205-97c4-e1653f7a411a",
   "metadata": {},
   "outputs": [],
   "source": [
    "def potential(x,y,c,a): \n",
    "    Phi = c*x*(1+a**2/((x**2+y**2)**(1/2)))\n",
    "    return Phi"
   ]
  },
  {
   "cell_type": "markdown",
   "id": "7ec91716-2b50-4b81-918e-a9bc5ce53d69",
   "metadata": {},
   "source": [
    "The velocity vector is then $\\mathbf{u}=\\nabla\\Phi$ or\n",
    "\n",
    "$$ \\mathbf{u} = \\begin{bmatrix} c + \\frac{ca^2}{x^2+y^2} - \\frac{2ca^2x^2}{(x^2+y^2)^2} \\\\ \n",
    "- \\frac{2ca^2xy}{(x^2+y^2)^2} \\end{bmatrix} $$"
   ]
  },
  {
   "cell_type": "code",
   "execution_count": null,
   "id": "1c4d7bdb-0826-45bd-94c4-92beb1cf3280",
   "metadata": {},
   "outputs": [],
   "source": [
    "def velocity(x,y,c,a):\n",
    "    u = c + (c*a**2)/(x**2+y**2) - (2*c*a**2*x**2)/(x**2+y**2)**2\n",
    "    v = - (2*c*a**2*x*y)/(x**2+y**2)**2\n",
    "    U = np.array([u,v])\n",
    "    return U"
   ]
  },
  {
   "cell_type": "code",
   "execution_count": null,
   "id": "2705e313-4487-497c-a7e5-eac99afec5ab",
   "metadata": {},
   "outputs": [],
   "source": [
    "velocity(-1,0,1,1)"
   ]
  },
  {
   "cell_type": "markdown",
   "id": "b10334aa-75a5-481c-89c2-8221ac989719",
   "metadata": {},
   "source": [
    "### Let $c=1$ and $a=1$"
   ]
  },
  {
   "cell_type": "code",
   "execution_count": null,
   "id": "45e7bdc9-cc4e-46fe-8b21-9741e983c337",
   "metadata": {},
   "outputs": [],
   "source": [
    "c = 1 \n",
    "a = 1"
   ]
  },
  {
   "cell_type": "markdown",
   "id": "83da037b-2f54-438f-9a9d-206f0b1099c8",
   "metadata": {
    "tags": []
   },
   "source": [
    "### Calculate velocity on gridded domain"
   ]
  },
  {
   "cell_type": "code",
   "execution_count": null,
   "id": "4488635f-5c41-4133-916d-1fbf4bc913a8",
   "metadata": {},
   "outputs": [],
   "source": [
    "x = np.linspace(-3,3,150)\n",
    "y = np.linspace(-1.5,1.5,75)\n",
    "X,Y = np.meshgrid(x,y)"
   ]
  },
  {
   "cell_type": "code",
   "execution_count": null,
   "id": "5be4fd37-b589-4e05-a0ac-031fcaaa7604",
   "metadata": {},
   "outputs": [],
   "source": [
    "U = velocity(X,Y,c,a)"
   ]
  },
  {
   "cell_type": "code",
   "execution_count": null,
   "id": "1560d91c-0e12-4b71-aaa9-c04623dbcde9",
   "metadata": {},
   "outputs": [],
   "source": [
    "u = U[0,:,:]\n",
    "v = U[1,:,:]"
   ]
  },
  {
   "cell_type": "markdown",
   "id": "3527b3cc-2aa5-4a60-8530-58487e1d6589",
   "metadata": {
    "tags": []
   },
   "source": [
    "### Calculate velocity potential"
   ]
  },
  {
   "cell_type": "code",
   "execution_count": null,
   "id": "ba64676c-3b19-4744-a77e-3604bb82ae6f",
   "metadata": {},
   "outputs": [],
   "source": [
    "Phi = potential(X,Y,c,a)"
   ]
  },
  {
   "cell_type": "markdown",
   "id": "e4e42228-3817-414d-9355-7dc62540022e",
   "metadata": {},
   "source": [
    "### Plot velocity potential and streamlines"
   ]
  },
  {
   "cell_type": "code",
   "execution_count": null,
   "id": "96d1129a-ac17-482f-9642-ebc9b638d33b",
   "metadata": {},
   "outputs": [],
   "source": [
    "fig = plt.figure(figsize=(10,5))\n",
    "p = plt.contourf(X,Y,Phi,cmap='RdBu',levels=100)\n",
    "plt.streamplot(X,Y,u,v,color='k');\n",
    "plt.colorbar(p)"
   ]
  },
  {
   "cell_type": "markdown",
   "id": "6f6e1000-ef6e-4ff8-ad84-4e2666cd6a91",
   "metadata": {
    "tags": []
   },
   "source": [
    "## Calculate Bernoulli constant (case I - irrotaional, steady flow)\n",
    "\n",
    "far from origin: $K = \\frac{1}{2}c^2+ \\frac{p_\\infty}{\\rho}$"
   ]
  },
  {
   "cell_type": "code",
   "execution_count": null,
   "id": "b1fb5651-9378-4ad1-aa3c-8e4239211d94",
   "metadata": {},
   "outputs": [],
   "source": [
    "rho = 1            # density of water\n",
    "pinf = 101.325      # standard SLP (hPa)\n",
    "\n",
    "K = 1/2*c**2 + pinf/rho\n",
    "print(str(K) + \" is Bernoulli constant\")"
   ]
  },
  {
   "cell_type": "code",
   "execution_count": null,
   "id": "7f6b12e4-a004-4b7c-9229-f18dd4e08b59",
   "metadata": {},
   "outputs": [],
   "source": [
    "P = pinf + 1/2*rho*(c**2-np.linalg.norm(U,2,0)**2)"
   ]
  },
  {
   "cell_type": "markdown",
   "id": "8b827f70-f469-44ca-b857-c23af99fb082",
   "metadata": {
    "tags": []
   },
   "source": [
    "### Plot pressure"
   ]
  },
  {
   "cell_type": "code",
   "execution_count": null,
   "id": "2009d810-0f24-48ff-9a80-5eece92942ae",
   "metadata": {},
   "outputs": [],
   "source": [
    "fig = plt.figure(figsize=(10,5))\n",
    "p = plt.contourf(X,Y,P,levels=100)\n",
    "plt.colorbar(p)"
   ]
  },
  {
   "cell_type": "code",
   "execution_count": null,
   "id": "2c8233d3-e033-4efd-b95d-1b72c01caf4f",
   "metadata": {},
   "outputs": [],
   "source": [
    "for ii in np.arange(0,x.shape[0]):\n",
    "    for jj in np.arange(0,y.shape[0]):\n",
    "        if x[ii]**2+y[jj]**2<1:\n",
    "            P[jj,ii] = np.NaN"
   ]
  },
  {
   "cell_type": "code",
   "execution_count": null,
   "id": "0bf0fc98-f6d3-4554-badc-c2d7e6f86dfe",
   "metadata": {},
   "outputs": [],
   "source": [
    "fig = plt.figure(figsize=(10,5))\n",
    "p = plt.contourf(X,Y,P,levels=100)\n",
    "plt.colorbar(p)"
   ]
  },
  {
   "cell_type": "markdown",
   "id": "2e0dc417-20fe-4aea-8e8e-a6503074dbc9",
   "metadata": {},
   "source": [
    "## Plot $||\\mathbf{u}||$"
   ]
  },
  {
   "cell_type": "code",
   "execution_count": null,
   "id": "dc6186bf-30df-4935-812b-a18c3b12589f",
   "metadata": {},
   "outputs": [],
   "source": [
    "U2 = np.linalg.norm(U,2,0)\n",
    "\n",
    "for ii in np.arange(0,x.shape[0]):\n",
    "    for jj in np.arange(0,y.shape[0]):\n",
    "        if x[ii]**2+y[jj]**2<1:\n",
    "            U2[jj,ii] = np.NaN"
   ]
  },
  {
   "cell_type": "code",
   "execution_count": null,
   "id": "a2d698ca-d83d-41a9-af12-c026679d9173",
   "metadata": {},
   "outputs": [],
   "source": [
    "fig = plt.figure(figsize=(10,5))\n",
    "p = plt.contourf(X,Y,U2,levels=100)\n",
    "plt.colorbar(p)"
   ]
  },
  {
   "cell_type": "markdown",
   "id": "ccd8d0e4-9043-4280-8abb-d35c891511d3",
   "metadata": {
    "tags": []
   },
   "source": [
    "## Saddle flow"
   ]
  },
  {
   "cell_type": "markdown",
   "id": "5ee962fc-6011-4834-9b9a-15d7ec562e26",
   "metadata": {},
   "source": [
    "The velocity potential for flow around a saddle is given as\n",
    "\n",
    "$$ \\Phi(\\mathbf{r}) = \\frac{1}{2}(x^2 - y^2) $$"
   ]
  },
  {
   "cell_type": "code",
   "execution_count": null,
   "id": "ebaff509-926b-48bf-99f4-ae963aa366d3",
   "metadata": {},
   "outputs": [],
   "source": [
    "def potential(x,y): \n",
    "    Phi = 1/2*(x**2-y**2)\n",
    "    return Phi"
   ]
  },
  {
   "cell_type": "markdown",
   "id": "5fae6891-7fd8-4a80-9e56-67872144c3cb",
   "metadata": {},
   "source": [
    "The velocity vector is then $\\mathbf{u}=\\nabla\\Phi$ or\n",
    "\n",
    "$$ \\mathbf{u} = \\begin{bmatrix} x \\\\ \n",
    "- y \\end{bmatrix} $$"
   ]
  },
  {
   "cell_type": "code",
   "execution_count": null,
   "id": "b3488b0c-fa14-4d7d-b52c-aa12f040b57f",
   "metadata": {},
   "outputs": [],
   "source": [
    "def velocity(x,y):\n",
    "    u = x\n",
    "    v = - y\n",
    "    U = np.array([u,v])\n",
    "    return U"
   ]
  },
  {
   "cell_type": "markdown",
   "id": "662fa9fa-81ff-440d-ac8e-6d7b67d84bcd",
   "metadata": {
    "tags": []
   },
   "source": [
    "### Calculate velocity on gridded domain"
   ]
  },
  {
   "cell_type": "code",
   "execution_count": null,
   "id": "370c8d87-59cf-444a-ad99-157f69c00b8b",
   "metadata": {},
   "outputs": [],
   "source": [
    "x = np.linspace(-1.5,1.5,75)\n",
    "y = np.linspace(-1.5,1.5,75)\n",
    "X,Y = np.meshgrid(x,y)"
   ]
  },
  {
   "cell_type": "code",
   "execution_count": null,
   "id": "fa33f607-b191-4a62-8e05-f2425b651dd7",
   "metadata": {},
   "outputs": [],
   "source": [
    "U = velocity(X,Y)"
   ]
  },
  {
   "cell_type": "code",
   "execution_count": null,
   "id": "0acb481e-e952-4aac-9f87-565607e85bef",
   "metadata": {},
   "outputs": [],
   "source": [
    "u = U[0,:,:]\n",
    "v = U[1,:,:]"
   ]
  },
  {
   "cell_type": "markdown",
   "id": "1128983f-cd00-4952-bf4d-393efd98e3f1",
   "metadata": {
    "tags": []
   },
   "source": [
    "### Calculate velocity potential"
   ]
  },
  {
   "cell_type": "code",
   "execution_count": null,
   "id": "a5f3ba95-5bee-4aef-b151-8a0fc201f55a",
   "metadata": {
    "tags": []
   },
   "outputs": [],
   "source": [
    "Phi = potential(X,Y)"
   ]
  },
  {
   "cell_type": "markdown",
   "id": "0d11484c-b973-4389-aa29-a7d65d7e282b",
   "metadata": {},
   "source": [
    "### Plot velocity potential and streamlines"
   ]
  },
  {
   "cell_type": "code",
   "execution_count": null,
   "id": "a397e798-0ecf-4b85-b96c-52ba426e5d8b",
   "metadata": {
    "tags": []
   },
   "outputs": [],
   "source": [
    "fig = plt.figure(figsize=(10,8))\n",
    "p = plt.contourf(X,Y,Phi,cmap='RdBu',levels=100)\n",
    "plt.streamplot(X,Y,u,v,color='k');\n",
    "plt.colorbar(p)"
   ]
  },
  {
   "cell_type": "markdown",
   "id": "acb21766-d56b-4235-ad49-7b9387fc33bf",
   "metadata": {
    "tags": []
   },
   "source": [
    "## Calculate Bernoulli constant (case I - irrotaional, steady flow)\n",
    "\n",
    "far from origin: $K = \\frac{p_\\infty}{\\rho}$"
   ]
  },
  {
   "cell_type": "code",
   "execution_count": null,
   "id": "c0bbe41d-60db-469f-b273-d7f0dfa35298",
   "metadata": {},
   "outputs": [],
   "source": [
    "rho = 1            # density of water\n",
    "pinf = 101.325      # standard SLP (hPa)\n",
    "\n",
    "K = pinf/rho\n",
    "print(str(K) + \" is Bernoulli constant\")"
   ]
  },
  {
   "cell_type": "code",
   "execution_count": null,
   "id": "d065f028-b4fe-47de-acf8-1a9c72e69139",
   "metadata": {},
   "outputs": [],
   "source": [
    "P = pinf + 1/2*rho*(-np.linalg.norm(U,2,0)**2)"
   ]
  },
  {
   "cell_type": "markdown",
   "id": "3ece436d-3ef3-4b55-b2b2-a74993675193",
   "metadata": {
    "tags": []
   },
   "source": [
    "### Plot pressure"
   ]
  },
  {
   "cell_type": "code",
   "execution_count": null,
   "id": "33ee514e-bd0f-4579-9ae5-f71e42d0f8d7",
   "metadata": {
    "tags": []
   },
   "outputs": [],
   "source": [
    "fig = plt.figure(figsize=(10,8))\n",
    "p = plt.contourf(X,Y,P,levels=100)\n",
    "plt.colorbar(p)"
   ]
  },
  {
   "cell_type": "markdown",
   "id": "a96a0d15-bd4d-4296-a648-2cbf5b50d36e",
   "metadata": {},
   "source": [
    "## Plot $||\\mathbf{u}||$"
   ]
  },
  {
   "cell_type": "code",
   "execution_count": null,
   "id": "f0bf08a5-9588-4894-9da2-0669d4eb78b0",
   "metadata": {},
   "outputs": [],
   "source": [
    "U2 = np.linalg.norm(U,2,0)"
   ]
  },
  {
   "cell_type": "code",
   "execution_count": null,
   "id": "720adb38-ad4e-4975-89a1-e221e5e16613",
   "metadata": {},
   "outputs": [],
   "source": [
    "fig = plt.figure(figsize=(10,8))\n",
    "p = plt.contourf(X,Y,U2,levels=100)\n",
    "plt.colorbar(p)"
   ]
  },
  {
   "cell_type": "markdown",
   "id": "e2666412-d452-448d-a5f8-8cadfd6f8e6f",
   "metadata": {
    "tags": []
   },
   "source": [
    "## Point source at wall"
   ]
  },
  {
   "cell_type": "markdown",
   "id": "2ebcb0ff-2e0d-46c5-b5cd-8b84b15aaf6d",
   "metadata": {},
   "source": [
    "The velocity potential for flow for a point source near a well is given as\n",
    "\n",
    "$$ \\Phi(\\mathbf{r}) = -\\frac{m}{4\\pi\\sqrt{x^2+(y-a)^2}}-\\frac{m}{4\\pi\\sqrt{x^2+(y+a)^2}}$$"
   ]
  },
  {
   "cell_type": "code",
   "execution_count": null,
   "id": "c4549f0c-1ee9-4792-9a06-54994417ebc0",
   "metadata": {},
   "outputs": [],
   "source": [
    "def potential(x,y,m,a): \n",
    "    Phi = - m /(4*np.pi*(x**2+(y-a)**2)**(1/2)) - m /(4*np.pi*(x**2+(y+a)**2)**(1/2))\n",
    "    return Phi"
   ]
  },
  {
   "cell_type": "markdown",
   "id": "a3a89f63-c2d2-4016-a6b6-107094a61ffc",
   "metadata": {},
   "source": [
    "The velocity vector is then $\\mathbf{u}=\\nabla\\Phi$ or\n",
    "\n",
    "$$ \\mathbf{u} = \\begin{bmatrix} \\frac{mx}{(x^2+(y-a)^2)^{3/2}} + \\frac{mx}{(x^2+(y+a)^2)^{3/2}} \\\\ \n",
    "\\frac{m(y-a)}{(x^2+(y-a)^2)^{3/2}} + \\frac{m(y+a)}{(x^2+(y+a)^2)^{3/2}} \\end{bmatrix} $$"
   ]
  },
  {
   "cell_type": "code",
   "execution_count": null,
   "id": "7f63ecbe-227b-4682-a64b-8f3ff5aa719d",
   "metadata": {},
   "outputs": [],
   "source": [
    "def velocity(x,y,m,a):\n",
    "    u = m*x/(x**2+(y-a)**2)**(3/2) + m*x/(x**2+(y+a)**2)**(3/2) \n",
    "    v = m*(y-a)/(x**2+(y-a)**2)**(3/2) + m*(y+a)/(x**2+(y+a)**2)**(3/2) \n",
    "    U = np.array([u,v])\n",
    "    return U"
   ]
  },
  {
   "cell_type": "code",
   "execution_count": null,
   "id": "840d1a7a-bd1e-47f3-988c-7a465bc9599e",
   "metadata": {},
   "outputs": [],
   "source": [
    "m = 1\n",
    "a = 1"
   ]
  },
  {
   "cell_type": "markdown",
   "id": "982b1e84-689c-4047-9efb-36653126ac7d",
   "metadata": {
    "tags": []
   },
   "source": [
    "### Calculate velocity on gridded domain"
   ]
  },
  {
   "cell_type": "code",
   "execution_count": null,
   "id": "c8bc6439-4f16-463c-a270-ba14aba43842",
   "metadata": {},
   "outputs": [],
   "source": [
    "x = np.linspace(-1.5,1.5,75)\n",
    "y = np.linspace(-1.5,1.5,75)\n",
    "X,Y = np.meshgrid(x,y)"
   ]
  },
  {
   "cell_type": "code",
   "execution_count": null,
   "id": "45dfc1fb-6ef1-4565-a070-5235601f7646",
   "metadata": {},
   "outputs": [],
   "source": [
    "U = velocity(X,Y,m,a)"
   ]
  },
  {
   "cell_type": "code",
   "execution_count": null,
   "id": "84c09ae2-6c72-4d97-970c-90502eddd490",
   "metadata": {},
   "outputs": [],
   "source": [
    "u = U[0,:,:]\n",
    "v = U[1,:,:]"
   ]
  },
  {
   "cell_type": "markdown",
   "id": "18c2f228-2735-4840-8fb3-2531c1274c88",
   "metadata": {
    "tags": []
   },
   "source": [
    "### Calculate velocity potential"
   ]
  },
  {
   "cell_type": "code",
   "execution_count": null,
   "id": "0d602409-a33f-405b-8229-8054196003d3",
   "metadata": {
    "tags": []
   },
   "outputs": [],
   "source": [
    "Phi = potential(X,Y,m,a)"
   ]
  },
  {
   "cell_type": "markdown",
   "id": "48e91c4e-1f44-41be-b6f1-ec666493612f",
   "metadata": {},
   "source": [
    "### Plot velocity potential and streamlines"
   ]
  },
  {
   "cell_type": "code",
   "execution_count": null,
   "id": "6c175a37-f8fd-4011-8ca8-c8d1b4330083",
   "metadata": {
    "tags": []
   },
   "outputs": [],
   "source": [
    "fig = plt.figure(figsize=(10,5))\n",
    "p = plt.contourf(X,Y,Phi,cmap='RdBu',levels=100)\n",
    "plt.streamplot(X,Y,u,v,color='k');\n",
    "plt.colorbar(p)\n",
    "plt.ylim([-0.01,1.5])"
   ]
  },
  {
   "cell_type": "markdown",
   "id": "c9ddee62-373d-4276-ba0e-b90b48f8efb4",
   "metadata": {
    "tags": []
   },
   "source": [
    "## Calculate Bernoulli constant (case I - irrotaional, steady flow)\n",
    "\n",
    "far from source: $K = \\frac{p_\\infty}{\\rho}$"
   ]
  },
  {
   "cell_type": "code",
   "execution_count": null,
   "id": "08634d78-c765-4c42-ae9d-5b319a3c63ba",
   "metadata": {},
   "outputs": [],
   "source": [
    "rho = 1            # density of water\n",
    "pinf = 101.325      # standard SLP (hPa)\n",
    "\n",
    "K = 1/2*c**2 + pinf/rho\n",
    "print(str(K) + \" is Bernoulli constant\")"
   ]
  },
  {
   "cell_type": "code",
   "execution_count": null,
   "id": "5bd53ff1-1031-4ae2-89a8-fe2d67034ade",
   "metadata": {},
   "outputs": [],
   "source": [
    "P = pinf + 1/2*rho*(np.linalg.norm(U,2,0)**2)"
   ]
  },
  {
   "cell_type": "markdown",
   "id": "770c17e2-a652-4fba-a7d4-fadee1f20c52",
   "metadata": {
    "tags": []
   },
   "source": [
    "### Plot pressure"
   ]
  },
  {
   "cell_type": "code",
   "execution_count": null,
   "id": "e435d2f8-70a0-4c07-b791-9b01dd1b76fb",
   "metadata": {},
   "outputs": [],
   "source": [
    "fig = plt.figure(figsize=(10,8))\n",
    "p = plt.contourf(X,Y,P,levels=100)\n",
    "plt.colorbar(p)"
   ]
  },
  {
   "cell_type": "code",
   "execution_count": null,
   "id": "a838c069-1044-4b99-a94a-3cf618a153eb",
   "metadata": {},
   "outputs": [],
   "source": []
  }
 ],
 "metadata": {
  "kernelspec": {
   "display_name": "Python 3 (ipykernel)",
   "language": "python",
   "name": "python3"
  },
  "language_info": {
   "codemirror_mode": {
    "name": "ipython",
    "version": 3
   },
   "file_extension": ".py",
   "mimetype": "text/x-python",
   "name": "python",
   "nbconvert_exporter": "python",
   "pygments_lexer": "ipython3",
   "version": "3.9.12"
  }
 },
 "nbformat": 4,
 "nbformat_minor": 5
}
